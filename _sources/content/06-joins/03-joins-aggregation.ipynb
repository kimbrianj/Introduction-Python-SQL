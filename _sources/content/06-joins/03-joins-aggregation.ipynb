{
 "cells": [
  {
   "cell_type": "code",
   "execution_count": null,
   "metadata": {
    "tags": [
     "hide_input"
    ]
   },
   "outputs": [],
   "source": [
    "%LOAD ../../lodes.db"
   ]
  },
  {
   "cell_type": "markdown",
   "metadata": {},
   "source": [
    "# Using Joins With Aggregation Functions\n",
    "\n",
    "Suppose we wanted to know the distribution of the total number of jobs in California by county. The employment information is in one table, and county information is in another table. We need to join them, then aggregate the jobs, by county. Even though this seems like a complicated multi-step process, we can actually do it all in one query.  Let's break it down into two parts: the join and the aggregation.\n",
    "\n",
    "## The Join\n",
    "\n",
    "We need to join the `ca_wac_2015` table and the `ca_xwalk` table. Since we aren't worried about counties that have no jobs, we can do an inner join. Consider the following `JOIN` (if you want to run it, I would suggest adding a `LIMIT` at the end):\n",
    "\n",
    "    SELECT a.w_geocode, a.c000, b.ctyname\n",
    "    FROM ca_wac_2015 a\n",
    "    JOIN ca_xwalk b\n",
    "    ON a.w_geocode = b.tabblk2010;\n",
    "    \n",
    "This should provide the `JOIN` that we want, as well as the relevant columns. We need to take the table we get from the join and apply the aggregation to it. \n",
    "\n",
    "## The Aggregation\n",
    "\n",
    "From our joined table, we need `GROUP BY` county, then find the `SUM()`. For now, let's call our joined table \"`joinedtable`\" and write the query based on this table. Since we're also interested in what counties have the most jobs, we'll order by the sum in descending order. \n",
    "\n",
    "    SELECT ctyname, SUM(c000)\n",
    "    FROM joinedtable\n",
    "    GROUP BY ctyname\n",
    "    ORDER BY SUM(c000) DESC\n",
    "    LIMIT 30;\n",
    "    \n",
    "But we've actually already figured out how to get table \"`joinedtable`\" using the `JOIN`s above. All we need to do is put the `JOIN` in."
   ]
  },
  {
   "cell_type": "code",
   "execution_count": null,
   "metadata": {},
   "outputs": [],
   "source": [
    "SELECT b.ctyname, SUM(a.c000)\n",
    "FROM ca_wac_2015 a\n",
    "JOIN ca_xwalk b\n",
    "ON a.w_geocode = b.tabblk2010\n",
    "GROUP BY ctyname\n",
    "ORDER BY SUM(c000) DESC\n",
    "LIMIT 30;"
   ]
  },
  {
   "cell_type": "markdown",
   "metadata": {},
   "source": [
    "## <span style=\"color:red\">Checkpoint: Putting It All Together</span>\n",
    "\n",
    "Look back to the motivating question: **What are the characteristics of the distribution of jobs by county and by metropolitan/micropolitan area?**\n",
    "\n",
    "Using what you know about joins and aggregation functions, try to answer the following questions:\n",
    "\n",
    "- Which counties have the most jobs?\n",
    "- Which counties do the workers live in the most?\n",
    "- Which metropolitan/micropolitan areas have the most jobs?\n",
    "- What are some summary statistics of jobs at the county or metropolitan/micropolitan level (e.g. average number of jobs per county)?"
   ]
  }
 ],
 "metadata": {
  "kernelspec": {
   "display_name": "xsqlite",
   "language": "sqlite",
   "name": "xsqlite"
  },
  "language_info": {
   "codemirror_mode": "sql",
   "file_extension": "",
   "mimetype": "",
   "name": "sql",
   "version": "3.33.0"
  },
  "toc": {
   "base_numbering": 1,
   "nav_menu": {},
   "number_sections": false,
   "sideBar": false,
   "skip_h1_title": false,
   "title_cell": "Table of Contents",
   "title_sidebar": "Contents",
   "toc_cell": false,
   "toc_position": {},
   "toc_section_display": false,
   "toc_window_display": false
  }
 },
 "nbformat": 4,
 "nbformat_minor": 4
}
