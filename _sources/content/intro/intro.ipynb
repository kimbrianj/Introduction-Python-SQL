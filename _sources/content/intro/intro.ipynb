{
 "cells": [
  {
   "cell_type": "markdown",
   "metadata": {},
   "source": [
    "# Introduction\n",
    "\n",
    "This book uses data from the Longitudinal Employer Household Dynamic (LEHD) data provided by the United States Census Bureau for its examples. Because the data can be somewhat difficult to parse at first glance, we recommend reading the documentation closely and making sure you understand the structure as described in this chapter before moving on to later chapters. \n",
    "\n",
    "We will also Jupyter notebooks to provide you with a chance to run the code and practice the exercises yourself. The "
   ]
  }
 ],
 "metadata": {
  "kernelspec": {
   "display_name": "Python 3 (ipykernel)",
   "language": "python",
   "name": "python3"
  },
  "language_info": {
   "codemirror_mode": {
    "name": "ipython",
    "version": 3
   },
   "file_extension": ".py",
   "mimetype": "text/x-python",
   "name": "python",
   "nbconvert_exporter": "python",
   "pygments_lexer": "ipython3",
   "version": "3.9.16"
  },
  "widgets": {
   "application/vnd.jupyter.widget-state+json": {
    "state": {},
    "version_major": 2,
    "version_minor": 0
   }
  }
 },
 "nbformat": 4,
 "nbformat_minor": 4
}
