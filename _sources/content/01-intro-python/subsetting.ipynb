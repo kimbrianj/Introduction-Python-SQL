{
 "cells": [
  {
   "cell_type": "code",
   "execution_count": null,
   "metadata": {
    "tags": [
     "hide_input"
    ]
   },
   "outputs": [],
   "source": [
    "import numpy as np \n",
    "import pandas as pd \n",
    "df = pd.read_csv('ca_wac_S000_JT00_2015.csv')"
   ]
  },
  {
   "cell_type": "markdown",
   "metadata": {},
   "source": [
    "## Creating Subsets of the Data\n",
    "Let's look at how many census blocks had more than 50 jobs. We can do this by including a conditional statement inside brackets. "
   ]
  },
  {
   "cell_type": "code",
   "execution_count": null,
   "metadata": {},
   "outputs": [],
   "source": [
    "df_over50 = df[df['C000'] > 50]\n",
    "df_over50.shape"
   ]
  },
  {
   "cell_type": "markdown",
   "metadata": {},
   "source": [
    "To see how exactly this works, let's see what happens when we run only what's inside the brackets."
   ]
  },
  {
   "cell_type": "code",
   "execution_count": null,
   "metadata": {},
   "outputs": [],
   "source": [
    "df['C000'] > 50 # This will be a pandas Series with True and False values"
   ]
  },
  {
   "cell_type": "markdown",
   "metadata": {},
   "source": [
    "The above code evaluates whether the value in `C000` is above 50 for each row in the data frame, creating a Series with length equal to the number of rows with \"True\" or \"False\" depending on whether that row had a value above 50 in `C000`. By putting this conditional statement into the brackets, we are telling Python which rows we want to include in our subsetted data frame using `True` and `False`."
   ]
  },
  {
   "cell_type": "markdown",
   "metadata": {},
   "source": [
    "We can also use more complicated subsets. For example, let's say we wanted to look at the census blocks with between 50 and 100 jobs."
   ]
  },
  {
   "cell_type": "code",
   "execution_count": null,
   "metadata": {},
   "outputs": [],
   "source": [
    "df_50to100 = df[(df['C000'] > 50) & (df['C000'] < 100)]\n",
    "df_50to100.shape"
   ]
  },
  {
   "cell_type": "markdown",
   "metadata": {},
   "source": [
    "Notice that we replaced our conditional statement from before with `(df['C000'] > 50) & (df['C000'] < 100)`. This says that we want each row that meets both conditions, `(df['C000'] > 50)` and `(df['C000'] < 100)`. \n",
    "\n",
    "What about the rest? Well, we can find the rows with less than or equal to 50 jobs OR greater than or equal to 100 jobs. "
   ]
  },
  {
   "cell_type": "code",
   "execution_count": null,
   "metadata": {},
   "outputs": [],
   "source": [
    "df_not50to100 = df[(df['C000'] <= 50) | (df['C000'] >= 100)]\n",
    "df_not50to100.shape"
   ]
  },
  {
   "cell_type": "markdown",
   "metadata": {},
   "source": [
    "## <span style=\"color:red\">Checkpoint 2: Explore The Data\n",
    "\n",
    "Recall that we have a few datasets available in the environment for you to practice with:\n",
    "- Illinois: `il_wac_S000_JT00_2015.csv`\n",
    "- Indiana: `in_wac_S000_JT00_2015.csv`\n",
    "- Maryland: `md_wac_S000_JT00_2015.csv`\n",
    "    \n",
    "Load in another dataset and explore it. Do the number of rows and columns make sense? Try subsetting the data set. How does it compare to the results from California? Does it make sense?"
   ]
  }
 ],
 "metadata": {
  "kernelspec": {
   "display_name": "Python 3",
   "language": "python",
   "name": "python3"
  },
  "language_info": {
   "codemirror_mode": {
    "name": "ipython",
    "version": 3
   },
   "file_extension": ".py",
   "mimetype": "text/x-python",
   "name": "python",
   "nbconvert_exporter": "python",
   "pygments_lexer": "ipython3",
   "version": "3.7.3"
  },
  "toc": {
   "base_numbering": 1,
   "nav_menu": {},
   "number_sections": false,
   "sideBar": false,
   "skip_h1_title": false,
   "title_cell": "Table of Contents",
   "title_sidebar": "Contents",
   "toc_cell": false,
   "toc_position": {},
   "toc_section_display": false,
   "toc_window_display": false
  }
 },
 "nbformat": 4,
 "nbformat_minor": 4
}
