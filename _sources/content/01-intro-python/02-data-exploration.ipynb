{
 "cells": [
  {
   "cell_type": "code",
   "execution_count": 2,
   "metadata": {
    "tags": [
     "hide_input"
    ]
   },
   "outputs": [],
   "source": [
    "import numpy as np \n",
    "import pandas as pd \n",
    "data_url = 'https://lehd.ces.census.gov/data/lodes/LODES7/ca/wac/ca_wac_S000_JT00_2015.csv.gz'\n",
    "df = pd.read_csv(data_url,compression='gzip')"
   ]
  },
  {
   "cell_type": "markdown",
   "metadata": {},
   "source": [
    "# Exploring the Data Frame\n",
    "\n",
    "Now that we've loaded in the data set as a Data Frame, let's check the number of rows and columns. We can do this by looking at the `shape` attribute of a data frame."
   ]
  },
  {
   "cell_type": "code",
   "execution_count": null,
   "metadata": {},
   "outputs": [],
   "source": [
    "df.shape"
   ]
  },
  {
   "cell_type": "markdown",
   "metadata": {},
   "source": [
    "It looks like there are 243,462 rows and 53 columns. "
   ]
  },
  {
   "cell_type": "markdown",
   "metadata": {},
   "source": [
    "Let's also find out the names of all the variables in this data set. "
   ]
  },
  {
   "cell_type": "code",
   "execution_count": null,
   "metadata": {},
   "outputs": [],
   "source": [
    "df.columns"
   ]
  },
  {
   "cell_type": "markdown",
   "metadata": {},
   "source": [
    "To get more information about the contents of the Data Frame, we can use the `.info()` method. This will give us the number of non-null values and the type of data (these have all been read in as integers) for each column."
   ]
  },
  {
   "cell_type": "code",
   "execution_count": 6,
   "metadata": {
    "collapsed": true,
    "jupyter": {
     "outputs_hidden": true
    },
    "tags": [
     "output_scroll"
    ]
   },
   "outputs": [
    {
     "name": "stdout",
     "output_type": "stream",
     "text": [
      "<class 'pandas.core.frame.DataFrame'>\n",
      "RangeIndex: 243462 entries, 0 to 243461\n",
      "Data columns (total 53 columns):\n",
      " #   Column      Non-Null Count   Dtype\n",
      "---  ------      --------------   -----\n",
      " 0   w_geocode   243462 non-null  int64\n",
      " 1   C000        243462 non-null  int64\n",
      " 2   CA01        243462 non-null  int64\n",
      " 3   CA02        243462 non-null  int64\n",
      " 4   CA03        243462 non-null  int64\n",
      " 5   CE01        243462 non-null  int64\n",
      " 6   CE02        243462 non-null  int64\n",
      " 7   CE03        243462 non-null  int64\n",
      " 8   CNS01       243462 non-null  int64\n",
      " 9   CNS02       243462 non-null  int64\n",
      " 10  CNS03       243462 non-null  int64\n",
      " 11  CNS04       243462 non-null  int64\n",
      " 12  CNS05       243462 non-null  int64\n",
      " 13  CNS06       243462 non-null  int64\n",
      " 14  CNS07       243462 non-null  int64\n",
      " 15  CNS08       243462 non-null  int64\n",
      " 16  CNS09       243462 non-null  int64\n",
      " 17  CNS10       243462 non-null  int64\n",
      " 18  CNS11       243462 non-null  int64\n",
      " 19  CNS12       243462 non-null  int64\n",
      " 20  CNS13       243462 non-null  int64\n",
      " 21  CNS14       243462 non-null  int64\n",
      " 22  CNS15       243462 non-null  int64\n",
      " 23  CNS16       243462 non-null  int64\n",
      " 24  CNS17       243462 non-null  int64\n",
      " 25  CNS18       243462 non-null  int64\n",
      " 26  CNS19       243462 non-null  int64\n",
      " 27  CNS20       243462 non-null  int64\n",
      " 28  CR01        243462 non-null  int64\n",
      " 29  CR02        243462 non-null  int64\n",
      " 30  CR03        243462 non-null  int64\n",
      " 31  CR04        243462 non-null  int64\n",
      " 32  CR05        243462 non-null  int64\n",
      " 33  CR07        243462 non-null  int64\n",
      " 34  CT01        243462 non-null  int64\n",
      " 35  CT02        243462 non-null  int64\n",
      " 36  CD01        243462 non-null  int64\n",
      " 37  CD02        243462 non-null  int64\n",
      " 38  CD03        243462 non-null  int64\n",
      " 39  CD04        243462 non-null  int64\n",
      " 40  CS01        243462 non-null  int64\n",
      " 41  CS02        243462 non-null  int64\n",
      " 42  CFA01       243462 non-null  int64\n",
      " 43  CFA02       243462 non-null  int64\n",
      " 44  CFA03       243462 non-null  int64\n",
      " 45  CFA04       243462 non-null  int64\n",
      " 46  CFA05       243462 non-null  int64\n",
      " 47  CFS01       243462 non-null  int64\n",
      " 48  CFS02       243462 non-null  int64\n",
      " 49  CFS03       243462 non-null  int64\n",
      " 50  CFS04       243462 non-null  int64\n",
      " 51  CFS05       243462 non-null  int64\n",
      " 52  createdate  243462 non-null  int64\n",
      "dtypes: int64(53)\n",
      "memory usage: 98.4 MB\n"
     ]
    }
   ],
   "source": [
    "df.info()"
   ]
  },
  {
   "cell_type": "markdown",
   "metadata": {},
   "source": [
    "We can use the `head` and `tail` methods in order to look at the first or last few rows of the data frame. "
   ]
  },
  {
   "cell_type": "code",
   "execution_count": null,
   "metadata": {},
   "outputs": [],
   "source": [
    "df.head() # Default is to show first 5 rows."
   ]
  },
  {
   "cell_type": "code",
   "execution_count": null,
   "metadata": {},
   "outputs": [],
   "source": [
    "df.head(10) # We can specify how many rows we want to see."
   ]
  },
  {
   "cell_type": "code",
   "execution_count": null,
   "metadata": {},
   "outputs": [],
   "source": [
    "df.tail(10) # Same as head, except the last 10 instead of first 10"
   ]
  },
  {
   "cell_type": "markdown",
   "metadata": {},
   "source": [
    "> **Attributes vs Variables:** Note that we used `head()`, with parentheses, while we used just `shape` or `column`, without parentheses. This is because `shape` and `column` are **attributes** and head is a **method**. To put it another way, `shape` and `columns` are characteristics that each Data Frame object has, and we're just displaying the values that exist already. On the other hand, `head` is a method, or a function that you perform specifically on a certain type of object (in this case, a Data Frame object)."
   ]
  },
  {
   "cell_type": "markdown",
   "metadata": {},
   "source": [
    "## Accessing the Data Frame\n",
    "What if we want to only look at certain cells, or certain columns? We can use a variety of commands to do just that.\n",
    "\n",
    "### Accessing Columns\n",
    "\n",
    "To access individual columns, we can use square brackets or we can simply use dot notation."
   ]
  },
  {
   "cell_type": "code",
   "execution_count": null,
   "metadata": {
    "tags": [
     "output_scroll"
    ]
   },
   "outputs": [],
   "source": [
    "# Look at just total number of jobs (C000)\n",
    "df[\"C000\"] "
   ]
  },
  {
   "cell_type": "code",
   "execution_count": null,
   "metadata": {
    "tags": [
     "output_scroll"
    ]
   },
   "outputs": [],
   "source": [
    "# This does the same thing\n",
    "df.C000 "
   ]
  },
  {
   "cell_type": "markdown",
   "metadata": {},
   "source": [
    "Remember, in Python, we are working with objects that have certain types. When we run the above code, we are accessing a specific column of a Data Frame, and that itself is a different type of object called a **Series**. "
   ]
  },
  {
   "cell_type": "code",
   "execution_count": 5,
   "metadata": {},
   "outputs": [
    {
     "data": {
      "text/plain": [
       "pandas.core.series.Series"
      ]
     },
     "execution_count": 5,
     "metadata": {},
     "output_type": "execute_result"
    }
   ],
   "source": [
    "type(df.C000)"
   ]
  },
  {
   "cell_type": "markdown",
   "metadata": {},
   "source": [
    "This can be useful for working with individual columns, because we can then use Series methods to do things like find the mean or standard deviation."
   ]
  },
  {
   "cell_type": "code",
   "execution_count": 4,
   "metadata": {},
   "outputs": [
    {
     "data": {
      "text/plain": [
       "65.9188990479007"
      ]
     },
     "execution_count": 4,
     "metadata": {},
     "output_type": "execute_result"
    }
   ],
   "source": [
    "# Mean number of jobs in census blocks that had jobs\n",
    "df.C000.mean()"
   ]
  },
  {
   "cell_type": "code",
   "execution_count": 6,
   "metadata": {},
   "outputs": [
    {
     "data": {
      "text/plain": [
       "369.9156753256301"
      ]
     },
     "execution_count": 6,
     "metadata": {},
     "output_type": "execute_result"
    }
   ],
   "source": [
    "# Standard deviation\n",
    "df.C000.std()"
   ]
  },
  {
   "cell_type": "markdown",
   "metadata": {},
   "source": [
    "### Accessing Rows \n",
    "\n",
    "What if we want to get certain rows? We can also use `loc` with square brackets. We use a colon to indicate that we want a series of indices with a start and end. We can also leave one side of the colon empty to indicate that we want the rest of the values on that end."
   ]
  },
  {
   "cell_type": "code",
   "execution_count": null,
   "metadata": {},
   "outputs": [],
   "source": [
    "# Show rows 10 - 20. Remember, the first row is row 0\n",
    "df.loc[10:20] "
   ]
  },
  {
   "cell_type": "code",
   "execution_count": null,
   "metadata": {},
   "outputs": [],
   "source": [
    "df.loc[:10]"
   ]
  },
  {
   "cell_type": "code",
   "execution_count": null,
   "metadata": {},
   "outputs": [],
   "source": [
    "df.loc[:] # This gives all rows"
   ]
  },
  {
   "cell_type": "markdown",
   "metadata": {},
   "source": [
    "In addition, we can use `loc` to access certain columns as well as certain indices in the Data Frame."
   ]
  },
  {
   "cell_type": "code",
   "execution_count": null,
   "metadata": {},
   "outputs": [],
   "source": [
    "# Look at rows 10 - 20 for total number of jobs (C000)\n",
    "df.loc[10:20,\"C000\"] "
   ]
  },
  {
   "cell_type": "markdown",
   "metadata": {},
   "source": [
    "To get a range of columns, we can use the same colon notation. "
   ]
  },
  {
   "cell_type": "code",
   "execution_count": 11,
   "metadata": {},
   "outputs": [
    {
     "data": {
      "text/html": [
       "<div>\n",
       "<style scoped>\n",
       "    .dataframe tbody tr th:only-of-type {\n",
       "        vertical-align: middle;\n",
       "    }\n",
       "\n",
       "    .dataframe tbody tr th {\n",
       "        vertical-align: top;\n",
       "    }\n",
       "\n",
       "    .dataframe thead th {\n",
       "        text-align: right;\n",
       "    }\n",
       "</style>\n",
       "<table border=\"1\" class=\"dataframe\">\n",
       "  <thead>\n",
       "    <tr style=\"text-align: right;\">\n",
       "      <th></th>\n",
       "      <th>C000</th>\n",
       "      <th>CA01</th>\n",
       "      <th>CA02</th>\n",
       "      <th>CA03</th>\n",
       "    </tr>\n",
       "  </thead>\n",
       "  <tbody>\n",
       "    <tr>\n",
       "      <th>10</th>\n",
       "      <td>14</td>\n",
       "      <td>2</td>\n",
       "      <td>9</td>\n",
       "      <td>3</td>\n",
       "    </tr>\n",
       "    <tr>\n",
       "      <th>11</th>\n",
       "      <td>3</td>\n",
       "      <td>0</td>\n",
       "      <td>0</td>\n",
       "      <td>3</td>\n",
       "    </tr>\n",
       "    <tr>\n",
       "      <th>12</th>\n",
       "      <td>1</td>\n",
       "      <td>0</td>\n",
       "      <td>0</td>\n",
       "      <td>1</td>\n",
       "    </tr>\n",
       "    <tr>\n",
       "      <th>13</th>\n",
       "      <td>9</td>\n",
       "      <td>0</td>\n",
       "      <td>9</td>\n",
       "      <td>0</td>\n",
       "    </tr>\n",
       "    <tr>\n",
       "      <th>14</th>\n",
       "      <td>3</td>\n",
       "      <td>1</td>\n",
       "      <td>1</td>\n",
       "      <td>1</td>\n",
       "    </tr>\n",
       "    <tr>\n",
       "      <th>15</th>\n",
       "      <td>1</td>\n",
       "      <td>0</td>\n",
       "      <td>0</td>\n",
       "      <td>1</td>\n",
       "    </tr>\n",
       "    <tr>\n",
       "      <th>16</th>\n",
       "      <td>2</td>\n",
       "      <td>0</td>\n",
       "      <td>2</td>\n",
       "      <td>0</td>\n",
       "    </tr>\n",
       "    <tr>\n",
       "      <th>17</th>\n",
       "      <td>1</td>\n",
       "      <td>0</td>\n",
       "      <td>1</td>\n",
       "      <td>0</td>\n",
       "    </tr>\n",
       "    <tr>\n",
       "      <th>18</th>\n",
       "      <td>1</td>\n",
       "      <td>0</td>\n",
       "      <td>1</td>\n",
       "      <td>0</td>\n",
       "    </tr>\n",
       "    <tr>\n",
       "      <th>19</th>\n",
       "      <td>7</td>\n",
       "      <td>0</td>\n",
       "      <td>4</td>\n",
       "      <td>3</td>\n",
       "    </tr>\n",
       "    <tr>\n",
       "      <th>20</th>\n",
       "      <td>1</td>\n",
       "      <td>0</td>\n",
       "      <td>1</td>\n",
       "      <td>0</td>\n",
       "    </tr>\n",
       "  </tbody>\n",
       "</table>\n",
       "</div>"
      ],
      "text/plain": [
       "    C000  CA01  CA02  CA03\n",
       "10    14     2     9     3\n",
       "11     3     0     0     3\n",
       "12     1     0     0     1\n",
       "13     9     0     9     0\n",
       "14     3     1     1     1\n",
       "15     1     0     0     1\n",
       "16     2     0     2     0\n",
       "17     1     0     1     0\n",
       "18     1     0     1     0\n",
       "19     7     0     4     3\n",
       "20     1     0     1     0"
      ]
     },
     "execution_count": 11,
     "metadata": {},
     "output_type": "execute_result"
    }
   ],
   "source": [
    "# Look at rows 10 - 20 for total number of jobs (C000) and jobs by age group\n",
    "df.loc[10:20,'C000':'CA03']"
   ]
  },
  {
   "cell_type": "markdown",
   "metadata": {},
   "source": [
    "An alternative to `loc` is `iloc`. This takes rows from specific positions in the Data Frame rather than the row labels. Most of the time, row labels are going to be numbered sequentially, so `loc` and `iloc` should act similarly. However, sometimes, especially when creating subsets of the data, you might end up with row labels that aren't ordered sequentially and go up by one. In those cases, `iloc` might be more useful.\n",
    "\n",
    "Another use case for `iloc` is in using negative numbers."
   ]
  },
  {
   "cell_type": "code",
   "execution_count": 3,
   "metadata": {},
   "outputs": [
    {
     "data": {
      "text/plain": [
       "243457     3\n",
       "243458    18\n",
       "243459    11\n",
       "243460     8\n",
       "243461    10\n",
       "Name: C000, dtype: int64"
      ]
     },
     "execution_count": 3,
     "metadata": {},
     "output_type": "execute_result"
    }
   ],
   "source": [
    "df.iloc[-5:]['C000']"
   ]
  },
  {
   "cell_type": "markdown",
   "metadata": {},
   "source": [
    "In this case, we were able to use the \"`-5:`\" to indicate that we want the last 5 rows of the data frame. Note that we can't do the same with `.loc`. This is because `.loc` retrieves the rows from a particular *label* in the Data Frame, while `.iloc` retrieves them from particular *positions*. "
   ]
  },
  {
   "cell_type": "markdown",
   "metadata": {},
   "source": [
    "## <span style=\"color:red\">Checkpoint: Explore Other Data</span>\n",
    "\n",
    "Copy the code you used in the previous section to bring in another dataset. Try to access different values within the dataset. Can you isolate a certain variable? Look at the documentation and identify a variable to pull out of the dataset. "
   ]
  },
  {
   "cell_type": "code",
   "execution_count": null,
   "metadata": {},
   "outputs": [],
   "source": []
  }
 ],
 "metadata": {
  "kernelspec": {
   "display_name": "Python 3 (ipykernel)",
   "language": "python",
   "name": "python3"
  },
  "language_info": {
   "codemirror_mode": {
    "name": "ipython",
    "version": 3
   },
   "file_extension": ".py",
   "mimetype": "text/x-python",
   "name": "python",
   "nbconvert_exporter": "python",
   "pygments_lexer": "ipython3",
   "version": "3.9.16"
  },
  "toc": {
   "base_numbering": 1,
   "nav_menu": {},
   "number_sections": false,
   "sideBar": false,
   "skip_h1_title": false,
   "title_cell": "Table of Contents",
   "title_sidebar": "Contents",
   "toc_cell": false,
   "toc_position": {},
   "toc_section_display": false,
   "toc_window_display": false
  }
 },
 "nbformat": 4,
 "nbformat_minor": 4
}
