{
 "cells": [
  {
   "cell_type": "markdown",
   "metadata": {},
   "source": [
    "# Visualizations\n",
    "\n",
    "Visualizations can help us get a better understanding of the data by displaying the information in an easy-to-parse format. However, visualizations can also be quite complicated and difficult to do well. In this chapter, we discuss a few different methods for creating visualizations. These methods have varying levels of ease of use and customizability. We suggest using the methods that you find easiest first, then branch out and try others as you discover limitations in what you want to try to show. "
   ]
  },
  {
   "cell_type": "markdown",
   "metadata": {
    "jp-MarkdownHeadingCollapsed": true,
    "tags": []
   },
   "source": [
    "## Motivating Question\n",
    "\n",
    "Recall the motivating question from last chapter:\n",
    "\n",
    "**What is the difference in the number of jobs by age group and by year? What are the different trends across years?**\n",
    "\n",
    "This might be easiest to see using visualizations instead of needing to look through lots of numbers. We'll take what we did with functions and loops and try to visualize the data to be able to draw better conclusions."
   ]
  }
 ],
 "metadata": {
  "kernelspec": {
   "display_name": "Python 3 (ipykernel)",
   "language": "python",
   "name": "python3"
  },
  "language_info": {
   "codemirror_mode": {
    "name": "ipython",
    "version": 3
   },
   "file_extension": ".py",
   "mimetype": "text/x-python",
   "name": "python",
   "nbconvert_exporter": "python",
   "pygments_lexer": "ipython3",
   "version": "3.9.16"
  }
 },
 "nbformat": 4,
 "nbformat_minor": 4
}
