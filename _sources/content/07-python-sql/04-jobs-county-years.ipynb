{
 "cells": [
  {
   "cell_type": "code",
   "execution_count": 1,
   "metadata": {
    "tags": [
     "hide_input"
    ]
   },
   "outputs": [],
   "source": [
    "import pandas as pd\n",
    "import numpy as np\n",
    "from sqlalchemy import create_engine\n",
    "import sqlite3\n",
    "\n",
    "from plotnine import *"
   ]
  },
  {
   "cell_type": "markdown",
   "metadata": {
    "tags": []
   },
   "source": [
    "# Example: Finding Jobs by County over Years\n",
    "\n",
    "In this section, we will combine everything we have learned in this book so far to create a workflow for getting the number of jobs by county over many years. Here are the steps we will take:\n",
    "\n",
    "- Get WAC data and crosswalk from the internet.\n",
    "- Store the data within a database.\n",
    "- Use SQL to join the WAC to the crosswalk to get the number of jobs by county.\n",
    "- Create a Data Frame which we can use to create a visualization.\n",
    "- Graph the jobs over years by county.\n",
    "\n",
    "Within this whole process, we will use functions and loops to make it easier to do this over many years."
   ]
  },
  {
   "cell_type": "markdown",
   "metadata": {},
   "source": [
    "## Creating a New Database\n",
    "\n",
    "We first start by creating a new database to store our data. Creating a connection to a new database name that doesn't exist will do this for us."
   ]
  },
  {
   "cell_type": "code",
   "execution_count": 8,
   "metadata": {},
   "outputs": [],
   "source": [
    "conn = sqlite3.connect(\"md_lodes.db\")"
   ]
  },
  {
   "cell_type": "markdown",
   "metadata": {},
   "source": [
    "Next, we define a function that will help us get the WAC data that we want. Try to read through the function and determine what it does. Read back to the previous Python material if you aren't sure about some parts."
   ]
  },
  {
   "cell_type": "code",
   "execution_count": 3,
   "metadata": {},
   "outputs": [],
   "source": [
    "def store_wac_md(year, con):\n",
    "    '''\n",
    "    Gets WAC data for Maryland for a given year and stores in a database in the connection\n",
    "    \n",
    "    Arguments:\n",
    "    year: Year to get data for\n",
    "    con: Connection to the database\n",
    "    \n",
    "    Returns:\n",
    "    None\n",
    "    '''\n",
    "    \n",
    "    # Bring in data from internet\n",
    "    base_url = 'https://lehd.ces.census.gov/data/lodes/LODES7/'\n",
    "    file_specs = 'md/wac/md_wac_S000_JT00_{yr}.csv.gz'.format(yr = year)\n",
    "    file_name = base_url + file_specs\n",
    "    df_md = pd.read_csv(file_name,compression='gzip')\n",
    "    \n",
    "    # Store in database\n",
    "    df_md.columns = df_md.columns.str.lower()\n",
    "    df_md.to_sql('md_wac_' + str(year), conn, if_exists='replace')"
   ]
  },
  {
   "cell_type": "markdown",
   "metadata": {},
   "source": [
    "We then use a loop to store the data within the database we created."
   ]
  },
  {
   "cell_type": "code",
   "execution_count": 4,
   "metadata": {},
   "outputs": [],
   "source": [
    "for i in range(2007,2017):\n",
    "    store_wac_md(i, conn)"
   ]
  },
  {
   "cell_type": "markdown",
   "metadata": {},
   "source": [
    "We just need to run the process for bringing in the crosswalk data once. We'll store that in the database too."
   ]
  },
  {
   "cell_type": "code",
   "execution_count": 7,
   "metadata": {},
   "outputs": [
    {
     "data": {
      "text/plain": [
       "145247"
      ]
     },
     "execution_count": 7,
     "metadata": {},
     "output_type": "execute_result"
    }
   ],
   "source": [
    "data_url = 'https://lehd.ces.census.gov/data/lodes/LODES7/md/md_xwalk.csv.gz'\n",
    "md_xwalk = pd.read_csv(data_url,compression='gzip')\n",
    "md_xwalk.columns = md_xwalk.columns.str.lower()\n",
    "md_xwalk.to_sql('md_xwalk', conn, if_exists='replace')"
   ]
  },
  {
   "cell_type": "markdown",
   "metadata": {},
   "source": [
    "We're going to need another function to automate doing the join, then bring that into Python as a Data Frame."
   ]
  },
  {
   "cell_type": "code",
   "execution_count": null,
   "metadata": {},
   "outputs": [],
   "source": [
    "def jobs_by_county(year, conn):\n",
    "    '''\n",
    "    Joins the WAC to the xwalk for a given year and calculates jobs by county. \n",
    "    \n",
    "    Arguments:\n",
    "    year: Year to get data for\n",
    "    con: Connection to the database\n",
    "    \n",
    "    Returns:\n",
    "    A Data Frame with three columns, county, jobs, and year\n",
    "    '''    \n",
    "    \n",
    "    base_query = '''\n",
    "    SELECT ctyname as county, count(*) as jobs, {year} as year\n",
    "    FROM md_wac_{year} wac\n",
    "    JOIN md_xwalk xwalk\n",
    "    ON wac.w_geocode = xwalk.tabblk2010\n",
    "    GROUP BY ctyname\n",
    "    '''\n",
    "    \n",
    "    return pd.read_sql(base_query.format(year = year), conn)"
   ]
  },
  {
   "cell_type": "code",
   "execution_count": null,
   "metadata": {
    "jupyter": {
     "source_hidden": true
    },
    "tags": []
   },
   "outputs": [],
   "source": [
    "jobs_by_county(2015,conn)"
   ]
  },
  {
   "cell_type": "markdown",
   "metadata": {},
   "source": [
    "We'll use a loop to get the data we want stacked on top of each other so that we have a long dataset with three columns: county, jobs, and year."
   ]
  },
  {
   "cell_type": "code",
   "execution_count": 6,
   "metadata": {},
   "outputs": [
    {
     "ename": "NameError",
     "evalue": "name 'jobs_by_county' is not defined",
     "output_type": "error",
     "traceback": [
      "\u001b[0;31m---------------------------------------------------------------------------\u001b[0m",
      "\u001b[0;31mNameError\u001b[0m                                 Traceback (most recent call last)",
      "Cell \u001b[0;32mIn[6], line 3\u001b[0m\n\u001b[1;32m      1\u001b[0m md_jobs_by_county \u001b[38;5;241m=\u001b[39m pd\u001b[38;5;241m.\u001b[39mDataFrame()\n\u001b[1;32m      2\u001b[0m \u001b[38;5;28;01mfor\u001b[39;00m i \u001b[38;5;129;01min\u001b[39;00m \u001b[38;5;28mrange\u001b[39m(\u001b[38;5;241m2007\u001b[39m,\u001b[38;5;241m2017\u001b[39m):\n\u001b[0;32m----> 3\u001b[0m     md_jobs_by_county \u001b[38;5;241m=\u001b[39m pd\u001b[38;5;241m.\u001b[39mconcat([md_jobs_by_county, \u001b[43mjobs_by_county\u001b[49m(i,conn)], \n\u001b[1;32m      4\u001b[0m                                   ignore_index\u001b[38;5;241m=\u001b[39m \u001b[38;5;28;01mTrue\u001b[39;00m)\n\u001b[1;32m      5\u001b[0m md_jobs_by_county\u001b[38;5;241m.\u001b[39mhead()\n",
      "\u001b[0;31mNameError\u001b[0m: name 'jobs_by_county' is not defined"
     ]
    }
   ],
   "source": [
    "md_jobs_by_county = pd.DataFrame()\n",
    "for i in range(2007,2017):\n",
    "    md_jobs_by_county = pd.concat([md_jobs_by_county, jobs_by_county(i,conn)], \n",
    "                                  ignore_index= True)\n",
    "md_jobs_by_county.head()"
   ]
  },
  {
   "cell_type": "markdown",
   "metadata": {},
   "source": [
    "Finally, we can plot the jobs over years by county. Here, we use ggplot to do the plotting, but you can use other methods as well."
   ]
  },
  {
   "cell_type": "code",
   "execution_count": null,
   "metadata": {},
   "outputs": [],
   "source": [
    "(ggplot(md_jobs_by_county)\n",
    " + aes(x = 'year', y = 'jobs', color = 'county') \n",
    " + geom_line())"
   ]
  },
  {
   "cell_type": "markdown",
   "metadata": {},
   "source": [
    "## <span style=\"color:red\">Checkpoint: Python and SQL Workflow</span>\n",
    "\n",
    "Make sure you understand how all of the code above comes together. Try adjusting the code above so that the graph only has a few counties so that it is easier to read. Try doing the same for a different state. "
   ]
  },
  {
   "cell_type": "code",
   "execution_count": null,
   "metadata": {},
   "outputs": [],
   "source": []
  }
 ],
 "metadata": {
  "kernelspec": {
   "display_name": "Python 3 (ipykernel)",
   "language": "python",
   "name": "python3"
  },
  "language_info": {
   "codemirror_mode": {
    "name": "ipython",
    "version": 3
   },
   "file_extension": ".py",
   "mimetype": "text/x-python",
   "name": "python",
   "nbconvert_exporter": "python",
   "pygments_lexer": "ipython3",
   "version": "3.9.16"
  },
  "toc": {
   "base_numbering": 1,
   "nav_menu": {},
   "number_sections": false,
   "sideBar": false,
   "skip_h1_title": false,
   "title_cell": "Table of Contents",
   "title_sidebar": "Contents",
   "toc_cell": false,
   "toc_position": {},
   "toc_section_display": false,
   "toc_window_display": false
  }
 },
 "nbformat": 4,
 "nbformat_minor": 4
}
