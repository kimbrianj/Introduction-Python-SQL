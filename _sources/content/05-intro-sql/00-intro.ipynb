{
 "cells": [
  {
   "cell_type": "markdown",
   "metadata": {},
   "source": [
    "# Introduction to SQL and Relational Databases\n",
    "\n",
    "Python is very useful and powerful for doing data analysis. However, it is not meant to be used with extremely large datasets, or to be used as a method of storing data. This is where SQL and relational databases come in. In this chapter, we will explore how relational databases work to store data, and how to use SQL to organize and extract the data that we want."
   ]
  },
  {
   "cell_type": "markdown",
   "metadata": {},
   "source": [
    "## The LODES Data Schema\n",
    "\n",
    "In the SQLite database that we will be using in this book, we have the following tables:\n",
    "- `ca_wac_2015`: California Workplace Area Characteristics \n",
    "- `ca_rac_2015`: California Residence Area Characteristics \n",
    "- `ca_od_2015`: California Origin-Destination\n",
    "- `ca_xwalk`: California Block-level Crosswalk"
   ]
  },
  {
   "cell_type": "markdown",
   "metadata": {},
   "source": [
    "## Motivating Question\n",
    "\n",
    "In this chapter, we will focus on the following motivating question:\n",
    "\n",
    "**What are the Characteristics of Jobs by Census Block?**\n",
    "\n",
    "The LODES data has a wealth of information about jobs at the census block level. We want to explore this, so that we can characterize the data that is available to us. That is, for any given state, we want to answer, for example, some of the following questions:\n",
    "\n",
    "- **How many census blocks contain workplaces?**\n",
    "- **What were the most jobs in a census block?**\n",
    "- **How many census blocks had over 50 jobs? Over 100?**\n",
    "- **Among census blocks containing worplaces, what is the average number of jobs per census block?**\n",
    "\n",
    "These, as well as other questions about the data we might answer, can help us better understand the distribution of jobs by location. In this notebook, try to keep these types of questions in mind as we explore the data."
   ]
  }
 ],
 "metadata": {
  "kernelspec": {
   "display_name": "Python 3 (ipykernel)",
   "language": "python",
   "name": "python3"
  },
  "language_info": {
   "codemirror_mode": {
    "name": "ipython",
    "version": 3
   },
   "file_extension": ".py",
   "mimetype": "text/x-python",
   "name": "python",
   "nbconvert_exporter": "python",
   "pygments_lexer": "ipython3",
   "version": "3.9.16"
  },
  "toc": {
   "base_numbering": 1,
   "nav_menu": {},
   "number_sections": false,
   "sideBar": false,
   "skip_h1_title": false,
   "title_cell": "Table of Contents",
   "title_sidebar": "Contents",
   "toc_cell": false,
   "toc_position": {},
   "toc_section_display": false,
   "toc_window_display": false
  }
 },
 "nbformat": 4,
 "nbformat_minor": 4
}
