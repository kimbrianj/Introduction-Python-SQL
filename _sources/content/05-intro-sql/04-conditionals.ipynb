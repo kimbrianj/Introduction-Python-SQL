{
 "cells": [
  {
   "cell_type": "code",
   "execution_count": 1,
   "metadata": {
    "tags": [
     "remove_input"
    ]
   },
   "outputs": [],
   "source": [
    "%LOAD ../../lodes.db"
   ]
  },
  {
   "cell_type": "markdown",
   "metadata": {},
   "source": [
    "# Using Conditional Statements\n",
    "\n",
    "Suppose we want to look at a subset of the data. We can use conditional statements to do this."
   ]
  },
  {
   "cell_type": "code",
   "execution_count": null,
   "metadata": {},
   "outputs": [],
   "source": [
    "SELECT *\n",
    "FROM ca_wac_2015 \n",
    "WHERE c000 < 100\n",
    "LIMIT 10;"
   ]
  },
  {
   "cell_type": "markdown",
   "metadata": {},
   "source": [
    "Using a query like the one above can be useful for finding if there are any data entry errors or missing values. Since it's not possible to have an age less 0, if there are any rows with negative age, this is likely an error or the method used to code missing values (e.g. `-1`). \n",
    "\n",
    "We can also use more complicated conditional statements."
   ]
  },
  {
   "cell_type": "code",
   "execution_count": null,
   "metadata": {},
   "outputs": [],
   "source": [
    "SELECT count(*) \n",
    "FROM ca_wac_2015\n",
    "WHERE (c000 > 50) AND (c000 < 100);"
   ]
  },
  {
   "cell_type": "markdown",
   "metadata": {},
   "source": [
    "This subsets to rows in which `c000` is greater than 50 and `c000` is less than 100. That is, this subsets to census blocks with between 50 and 100 total jobs. Using `OR` works in the same way."
   ]
  },
  {
   "cell_type": "code",
   "execution_count": null,
   "metadata": {},
   "outputs": [],
   "source": [
    "SELECT count(*) \n",
    "FROM ca_wac_2015\n",
    "WHERE (c000 <= 50) OR (c000 >= 100);"
   ]
  },
  {
   "cell_type": "markdown",
   "metadata": {},
   "source": [
    "This subsets to rows in which `c000` is less than or equal to 50 or `c000` is greater than or equal to 100. This query should, in other words, capture the rest of the rows."
   ]
  },
  {
   "cell_type": "markdown",
   "metadata": {},
   "source": [
    "## Common Comparison Operators\n",
    "\n",
    "Though there are some more complicated comparison operators (if you're curious, feel free to look up what `LIKE` and `IN` do), these should cover most of what you want to do. \n",
    "\n",
    "- **`=`**: equal to\n",
    "- **`!=`** or \"**`<>`**\": not equal to\n",
    "- **`<`**: less than\n",
    "- **`<=`**: less-than-or-equal-to\n",
    "- **`>`**: greater than\n",
    "- **`>=`**: greater-than-or-equal-to\n",
    "- **`IS NULL`** and **`IS NOT NULL`**: The signifier of a row in a column not having a value is a special keyword: `NULL`.  To check for `NULL`, you use `IS NULL` or `IS NOT NULL`, rather than \"=\" or \"!=\". For example, to count the number of rows with `NULL` values for `c000` we might use the following:\n",
    "\n",
    "        SELECT count(*) \n",
    "        FROM ca_wac_2015\n",
    "        WHERE c000 IS NULL;"
   ]
  },
  {
   "cell_type": "markdown",
   "metadata": {
    "tags": []
   },
   "source": [
    "## Creating Variables\n",
    "\n",
    "Suppose we want to create a new column in the table that acts as a \"flag\" for which rows fit a certain condition, so that you can use them later. We can do this using the `ALTER TABLE` statement."
   ]
  },
  {
   "cell_type": "code",
   "execution_count": 9,
   "metadata": {
    "tags": [
     "remove_cell"
    ]
   },
   "outputs": [],
   "source": [
    "ALTER TABLE ca_wac_2015 drop over100; -- Only run this if table already has the column over100"
   ]
  },
  {
   "cell_type": "code",
   "execution_count": null,
   "metadata": {},
   "outputs": [],
   "source": [
    "ALTER TABLE ca_wac_2015 ADD over100 BOOL;"
   ]
  },
  {
   "cell_type": "code",
   "execution_count": null,
   "metadata": {},
   "outputs": [],
   "source": [
    "UPDATE ca_wac_2015 SET over100 = 0;"
   ]
  },
  {
   "cell_type": "code",
   "execution_count": null,
   "metadata": {},
   "outputs": [],
   "source": [
    "UPDATE ca_wac_2015 SET over100 = 1 WHERE c000 > 100;"
   ]
  },
  {
   "cell_type": "markdown",
   "metadata": {},
   "source": [
    "Let's break this down line by line. First, we use `ALTER TABLE`, then specify the table we want to alter. In this case, we want to alter the `ca_wac_2015` table. Then, we `ADD` a new column, `over100`. We designate this as a `BOOL` for boolean (that is, a TRUE/FALSE value) column. \n",
    "\n",
    "After we create this new column, we need to fill it with the appropriate values. First, we're going to set everything in the column to be 0 (or False). To do this, we use `UPDATE`, specify the appropriate table, then use `SET over100 = 0`. Then, we replace the value with 1 (or True) if the value in `c000` for that row is above 100. We again use `UPDATE` in a similar manner, except we add a `WHERE` clause, so that it only set the value to TRUE if a certain condition is met -- in this case, that `c000 > 100`."
   ]
  },
  {
   "cell_type": "markdown",
   "metadata": {},
   "source": [
    "## <span style = \"color:red\">Checkpoint: Counting Rows, Using Conditional Statements and Creating Variables</span>\n",
    "\n",
    "We've included the 2015 OD, RAC, WAC, and geography crosswalk data for both California and Illinois for you in tables. The Illinois data follow the same format as the California, except with `il` replacing `ca` (e.g. `il_wac_2015` for the Illinois 2015 WAC). Try using the methods described in this section to further explore the tables. If you are using PostgreSQL on your own computer, feel free to bring in data from a different state (using the document about bringing in data into PostgreSQL), or use the California or Illinois data provided for you. Answer the questions below, making sure to write out the queries used to answer the questions.\n",
    "\n",
    "- How many census blocks contain more than 200 jobs?\n",
    "- How many census blocks contain residences of fewer than 25 workers?\n",
    "- How many census blocks contain workplaces with more than 10 workers with a Bachelor's degree or higher?\n",
    "- How many counties are there?\n",
    "- How many total census blocks are there?\n",
    "- How many Metropolitan/Micropolitan areas are there?"
   ]
  },
  {
   "cell_type": "code",
   "execution_count": null,
   "metadata": {},
   "outputs": [],
   "source": []
  }
 ],
 "metadata": {
  "kernelspec": {
   "display_name": "xsqlite",
   "language": "sqlite",
   "name": "xsqlite"
  },
  "language_info": {
   "codemirror_mode": "sql",
   "file_extension": "",
   "mimetype": "",
   "name": "sql",
   "version": "3.33.0"
  },
  "toc": {
   "base_numbering": 1,
   "nav_menu": {},
   "number_sections": false,
   "sideBar": false,
   "skip_h1_title": false,
   "title_cell": "Table of Contents",
   "title_sidebar": "Contents",
   "toc_cell": false,
   "toc_position": {},
   "toc_section_display": false,
   "toc_window_display": false
  }
 },
 "nbformat": 4,
 "nbformat_minor": 4
}
