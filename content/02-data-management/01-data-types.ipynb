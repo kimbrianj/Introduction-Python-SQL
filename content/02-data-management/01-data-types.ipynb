{
 "cells": [
  {
   "cell_type": "markdown",
   "id": "0bd1468e-76a1-4c42-8f18-9a7e93747547",
   "metadata": {},
   "source": [
    "# Data Types in Python\n",
    "\n",
    "We can store data in many different ways within Python. We've gone over one way to do this using Data Frames, which have nice rows and columns in a rectangular format like we might be used to seeing data. However, there are other types of objects that might be better for different types of data. In this section, we will look at different types of objects within Python that will help us better manage the data."
   ]
  },
  {
   "cell_type": "markdown",
   "id": "f50ec085-4070-40a9-b47a-288bb70a0fba",
   "metadata": {},
   "source": [
    "## Lists"
   ]
  },
  {
   "cell_type": "code",
   "execution_count": 1,
   "id": "e8535b08-c3a0-4efc-8478-eaa6d34ea0b1",
   "metadata": {},
   "outputs": [
    {
     "data": {
      "text/plain": [
       "[1, 2, 3, 4]"
      ]
     },
     "execution_count": 1,
     "metadata": {},
     "output_type": "execute_result"
    }
   ],
   "source": [
    "[1, 2, 3, 4]"
   ]
  },
  {
   "cell_type": "markdown",
   "id": "d10e2e32-4342-432b-ad8b-791a463c9a7f",
   "metadata": {},
   "source": [
    "Lists are useful with DataFrames in particular because they can be used to select multiple columns easily."
   ]
  },
  {
   "cell_type": "code",
   "execution_count": null,
   "id": "682ea7c7-5c46-4ab1-9939-6913a69d915c",
   "metadata": {},
   "outputs": [],
   "source": [
    "# Look at rows 10 - 20 for total number of jobs (C000) and jobs by age group\n",
    "df.loc[10:20,['C000','CA01','CA02','CA03'] ] "
   ]
  },
  {
   "cell_type": "markdown",
   "id": "c7f30227-5db6-4bf3-9093-6ab8da32b508",
   "metadata": {},
   "source": [
    "Here, we wanted to select 4 variables to look at. Notice that we replaced `\"C000\"` with `['C000','CA01','CA02','CA03']`. The square brackets create a list with 4 elements, `'C000'`,`'CA01'`,`'CA02'`, and `'CA03'`."
   ]
  },
  {
   "cell_type": "code",
   "execution_count": null,
   "id": "b541bace-b9bb-499a-ad57-3adb54a22682",
   "metadata": {},
   "outputs": [],
   "source": [
    "type(['C000','CA01','CA02','CA03'])"
   ]
  },
  {
   "cell_type": "code",
   "execution_count": null,
   "id": "5ddeb86d-66e0-4c85-8e7e-dd77f08881ab",
   "metadata": {
    "tags": []
   },
   "outputs": [],
   "source": [
    "vars_to_show = ['CA01','CA02','CA03'] # A list of strings containing names of variables (jobs by age group)\n",
    "df.iloc[-5:][vars_to_show]"
   ]
  },
  {
   "cell_type": "markdown",
   "id": "0bc0f5e5-6d93-4c11-8ad7-22493fd44405",
   "metadata": {},
   "source": [
    "## Series\n",
    "\n",
    "Individual columns of a Data Frame can be accessed as a pandas Series object."
   ]
  },
  {
   "cell_type": "code",
   "execution_count": null,
   "id": "10207ccb-96c7-43f0-97e6-7c483d23b2c0",
   "metadata": {},
   "outputs": [],
   "source": []
  },
  {
   "cell_type": "markdown",
   "id": "fdc58dfb-1250-43bf-b9da-151417b8558a",
   "metadata": {},
   "source": [
    "## Dictionaries\n",
    "\n",
    "A **dictionary** is like a list, except it doesn't have an order in which **values** (which can be any Python object) are stored, and you access the elements of a dictionary using a **key**. Think of a dictionary like a bag of objects, from which we can find the object we want by using the appropriate label. In our case, we'll create a dictionary that has the year as the key and the Data Frame for that year as the value. This give us an easy way of both storing and accessing the Data Frames that we want to get. \n",
    "\n",
    "To create a dictionary, we can use curly braces, with colons separating key-value pairs. For example, we can create a dictionary called `example_dict` with three keys (`2009`, `\"2010\"`, `2011`) with some values. We can access the values we assigned to the keys using square brackets."
   ]
  },
  {
   "cell_type": "code",
   "execution_count": null,
   "id": "f6c9d202-e353-4014-8c5a-b2b7d9e2e979",
   "metadata": {},
   "outputs": [],
   "source": [
    "# Creating a dictionary called example_dict\n",
    "example_dict = {2009:5, \"2010\":2, 2011:None}"
   ]
  },
  {
   "cell_type": "markdown",
   "id": "ce4f993d-750d-404f-bb2d-ddeb2d4712ee",
   "metadata": {},
   "source": [
    "Our `example_dict` dictionary is storing three values: `5`, `2`, and `None`. The keys associated with these three values are `2009`, `\"2010\"`, and `2011`. Notice that `\"2010\"` is in quotes, indicating that it is a string, as opposed to `2009` or `2011`, which are integers. This is important, because we need to make sure to use the correct type to access the dictionary values. "
   ]
  },
  {
   "cell_type": "code",
   "execution_count": null,
   "id": "411ca44d-aebc-4f41-98a3-c9a5d4015175",
   "metadata": {},
   "outputs": [],
   "source": [
    "# What do you think this will output?\n",
    "example_dict[2009]"
   ]
  },
  {
   "cell_type": "code",
   "execution_count": null,
   "id": "eb418eb2-70d0-4080-abb4-48af6033f937",
   "metadata": {},
   "outputs": [],
   "source": [
    "# Since keys can be any type, we need to make sure to use the appropriate type\n",
    "example_dict[\"2010\"]"
   ]
  }
 ],
 "metadata": {
  "kernelspec": {
   "display_name": "Python 3 (ipykernel)",
   "language": "python",
   "name": "python3"
  },
  "language_info": {
   "codemirror_mode": {
    "name": "ipython",
    "version": 3
   },
   "file_extension": ".py",
   "mimetype": "text/x-python",
   "name": "python",
   "nbconvert_exporter": "python",
   "pygments_lexer": "ipython3",
   "version": "3.9.16"
  }
 },
 "nbformat": 4,
 "nbformat_minor": 5
}
