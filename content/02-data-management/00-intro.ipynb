{
 "cells": [
  {
   "cell_type": "markdown",
   "id": "b4fab573-da1b-4275-9993-815a198996a3",
   "metadata": {},
   "source": [
    "# Data Management in Python\n",
    "\n",
    "Now that we can access our data within Python, we might want to do something cool, like creating visualizations, or making predictions. Before we do all that, though, we might need to do some data management to make sure that we can actually work with our data. The Data Frame we read in might not be in the right format to make the visualization we want, for example, or we might need to address missing values. \n",
    "\n",
    "We'll go over some simple data management techniques in this chapter. However, this is far from comprehensive, and depending on your needs, you might need to take completely different steps in order to work with your own dataset. Luckily, Python is quite flexible, so you should be able to find a way to do it even if it might seem daunting at first."
   ]
  }
 ],
 "metadata": {
  "kernelspec": {
   "display_name": "Python 3 (ipykernel)",
   "language": "python",
   "name": "python3"
  },
  "language_info": {
   "codemirror_mode": {
    "name": "ipython",
    "version": 3
   },
   "file_extension": ".py",
   "mimetype": "text/x-python",
   "name": "python",
   "nbconvert_exporter": "python",
   "pygments_lexer": "ipython3",
   "version": "3.9.16"
  }
 },
 "nbformat": 4,
 "nbformat_minor": 5
}
