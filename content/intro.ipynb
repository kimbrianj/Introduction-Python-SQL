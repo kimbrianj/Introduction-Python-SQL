{
 "cells": [
  {
   "cell_type": "markdown",
   "metadata": {},
   "source": [
    "# Introduction to SQL and Python for Data Analysis\n",
    "\n",
    "This book provides a brief and gentle introduction to using Python and SQL for data analysis. In this book, we will use a set of public datasets from the Longitudinal Employer Household Dynamic (LEHD) data provided by the United States Census Bureau. In particular, we will use the LEHD Origin-Destination Employment Statistics (LODES) data. These data are based on tabulated administrative data and give information about workplaces and residences of workers at the census block level. \n",
    "\n",
    "For more information about the datasets used in the examples, please refer to the data documentation provided [at this link](https://lehd.ces.census.gov/data/lodes/LODES7/LODESTechDoc7.4.pdf). \n",
    "\n",
    "In each chapter, we will start with a motivating question, then walk through the process we need to go through in order to answer the motivating question. Along the way, we will walk through various Python commands and develop skills as we work towards answering the question.\n",
    "\n",
    "As you work, there will be headers that are in **<span style=\"color:green\">GREEN</span>**. These indicate locations where there is an accompanying video. This video may walk through the steps or expand on the topics discussed in that section. Though it isn't absolutely necessary to watch the video while working through this notebook, we highly recommend watching them at least once on your first time through.\n",
    "\n",
    "**<span style = \"color:green\">If you have not yet watched the \"Introduction to Jupyter Notebooks\" video, watch it before you proceed!</span>**\n",
    "\n",
    "You will also run into some headers that are in **<span style=\"color:red\">RED</span>**. These headers indicate a checkpoint to practice writing the code yourself. You should stop at these checkpoints and try doing the exercises and answering the questions posed in these sections.\n"
   ]
  }
 ],
 "metadata": {
  "kernelspec": {
   "display_name": "Python 3",
   "language": "python",
   "name": "python3"
  },
  "language_info": {
   "codemirror_mode": {
    "name": "ipython",
    "version": 3
   },
   "file_extension": ".py",
   "mimetype": "text/x-python",
   "name": "python",
   "nbconvert_exporter": "python",
   "pygments_lexer": "ipython3",
   "version": "3.7.3"
  },
  "widgets": {
   "application/vnd.jupyter.widget-state+json": {
    "state": {},
    "version_major": 2,
    "version_minor": 0
   }
  }
 },
 "nbformat": 4,
 "nbformat_minor": 4
}
