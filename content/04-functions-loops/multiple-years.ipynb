{
 "cells": [
  {
   "cell_type": "code",
   "execution_count": null,
   "metadata": {},
   "outputs": [],
   "source": [
    "# Start (as usual) by loading libraries\n",
    "import numpy as np\n",
    "import pandas as pd\n",
    "import matplotlib as mplib\n",
    "import matplotlib.pyplot as plt\n",
    "\n",
    "# For inline graphics\n",
    "%matplotlib inline"
   ]
  },
  {
   "cell_type": "markdown",
   "metadata": {},
   "source": [
    "## <span style = \"color:green\">Using a Line Chart to Show Jobs by Year for Each Age Group (VIDEO)</span>\n",
    "\n",
    "In this last section, we'll look at a line chart while incorporating all the other methods we've gone over in this notebook. Here, we want to look at the change in number of jobs by year, separating them into each age group so that we can look at the trends for each age group as well as compare the trends across age groups. \n",
    "\n",
    "In order to do this, we'll need to get that data from multiple Data Frames, since we want to combine data from multiple years. We'll put them all in lists, then bring it all together into one Data Frame, setting the index of that Data Frame to the correct year, then plot the line chart. Since we want to separate it by age group \n",
    "\n",
    "Recall that we've already brought in data from 2009 to 2015 already. We'll use that data for now, but you can go back and change the years to include more. We'll show all of the code, then go over the individual parts."
   ]
  },
  {
   "cell_type": "code",
   "execution_count": null,
   "metadata": {},
   "outputs": [],
   "source": [
    "# Initialize the lists we'll use to create Data Frame\n",
    "ca_c000 = []\n",
    "ca_ca01 = []\n",
    "ca_ca02 = []\n",
    "ca_ca03 = []\n",
    "\n",
    "# Loop through all years and get total jobs by age group\n",
    "for i in range(2009,2016):\n",
    "    tempdf = wac_all_years[i]\n",
    "    ca_c000.append(tempdf.C000.sum())\n",
    "    ca_ca01.append(tempdf.CA01.sum())\n",
    "    ca_ca02.append(tempdf.CA02.sum())\n",
    "    ca_ca03.append(tempdf.CA03.sum())\n",
    "\n",
    "# Create the overall Data Frame\n",
    "plot_df = pd.DataFrame({\"C000\": ca_c000, \"CA01\": ca_ca01, \n",
    "                       \"CA02\": ca_ca02, \"CA03\": ca_ca03},\n",
    "                       index=range(2009,2016))\n",
    "\n",
    "# Now to plot\n",
    "fig, ax = plt.subplots(figsize=(8,6))\n",
    "\n",
    "# Add each plot\n",
    "plot_df.C000.plot(kind='line', ax=ax, legend=True)\n",
    "plot_df.CA01.plot(kind='line', ax=ax, legend=True)\n",
    "plot_df.CA02.plot(kind='line', ax=ax, legend=True)\n",
    "plot_df.CA03.plot(kind='line', ax=ax, legend=True)\n",
    "\n",
    "# Just to make x-axis look nice\n",
    "ax.get_xaxis().get_major_formatter().set_useOffset(False) "
   ]
  },
  {
   "cell_type": "markdown",
   "metadata": {},
   "source": [
    "We start by initializing four lists. These are the lists in which we'll store the total number of jobs for each age group by year. \n",
    "\n",
    "    ca_c000 = []\n",
    "    ca_ca01 = []\n",
    "    ca_ca02 = []\n",
    "    ca_ca03 = []\n",
    "\n",
    "The lists each correspond to an age group (or the total of all age groups), so we'll plot lines for four different categories: Total, 29 or younger, 30 to 54, and 55 or older. Next, we go through the loop.\n",
    "\n",
    "    for i in range(2009,2016):\n",
    "        tempdf = wac_all_years[i]\n",
    "        ca_c000.append(tempdf.C000.sum())\n",
    "        ca_ca01.append(tempdf.CA01.sum())\n",
    "        ca_ca02.append(tempdf.CA02.sum())\n",
    "        ca_ca03.append(tempdf.CA03.sum())\n",
    "\n",
    "We're going to be looping through each year from 2009 to 2015. In each iteration, we start by storing the Data Frame for that year in `tempdf`. This step isn't absolutely necessary, as we could have chosen to replace each instance of \"`tempdf`\" with \"`wac_all_years[i]`\" in the rest of the loop, but I've done it to make the code more readable. Next, for each of the four categories, we'll take the appropriate column, calculate the `sum`, then `append` it to the appropriate list. This all takes place in one line for each category. \n",
    "\n",
    "    plot_df = pd.DataFrame({\"C000\": ca_c000, \"CA01\": ca_ca01, \n",
    "                           \"CA02\": ca_ca02, \"CA03\": ca_ca03},\n",
    "                           index=range(2009,2016))\n",
    "\n",
    "We then create a new Data Frame called `plot_df` that has a column for each age group and a row for each year. Notice that we create a dictionary with column names as keys and the lists containing the elements as the values. In addition, we specify the index to be the years. You can check the contents of `plot_df` to get a better idea of what we've constructed."
   ]
  },
  {
   "cell_type": "code",
   "execution_count": null,
   "metadata": {},
   "outputs": [],
   "source": [
    "plot_df"
   ]
  },
  {
   "cell_type": "markdown",
   "metadata": {},
   "source": [
    "Lastly, we plot the figure using similar methods as before, except with `kind='line'`. \n",
    "\n",
    "\n",
    "    fig, ax = plt.subplots(figsize=(8,6))\n",
    "\n",
    "    plot_df.C000.plot(kind='line', ax=ax, legend=True)\n",
    "    plot_df.CA01.plot(kind='line', ax=ax, legend=True)\n",
    "    plot_df.CA02.plot(kind='line', ax=ax, legend=True)\n",
    "    plot_df.CA03.plot(kind='line', ax=ax, legend=True)\n",
    "    \n",
    "    ax.get_xaxis().get_major_formatter().set_useOffset(False) \n",
    "\n",
    "The last line is simply to make the years look nicer on the x-axis. You can try plotting without the last line (i.e. comment it out) to see what happens without it.  "
   ]
  },
  {
   "cell_type": "markdown",
   "metadata": {},
   "source": [
    "### Saving Figures\n",
    "\n",
    "Of course, some of the figures we make might help us visualize when exploring the data, but we might also want to save them to include in presentations or to show others without needing to run code. We can save the figure by using the `savefig()` method. Notice that we include the \"`.png`\" file extension in the name of the file. Here, we also specify a dpi. \n",
    "\n",
    "**Note:**\n",
    "*You can find the saved file by clicking the previous tab in your browser (labeled '**Home**'). Find the file listed there, click the checkbox next to the file, then click the '**Download**' button that appears above to download the file.*"
   ]
  },
  {
   "cell_type": "code",
   "execution_count": null,
   "metadata": {},
   "outputs": [],
   "source": [
    "fig.savefig('jobsbyage.png', dpi=600)"
   ]
  },
  {
   "cell_type": "markdown",
   "metadata": {},
   "source": [
    "## <span style=\"color:red\">Checkpoint 3: Visualize Your Data</span>\n",
    "\n",
    "Try using the methods we've described above, try visualizing your data set. What do the visualizations tell you? How are they different from the data from California? How are they the same? Does this make sense?"
   ]
  }
 ],
 "metadata": {
  "kernelspec": {
   "display_name": "Python 3",
   "language": "python",
   "name": "python3"
  },
  "language_info": {
   "codemirror_mode": {
    "name": "ipython",
    "version": 3
   },
   "file_extension": ".py",
   "mimetype": "text/x-python",
   "name": "python",
   "nbconvert_exporter": "python",
   "pygments_lexer": "ipython3",
   "version": "3.7.3"
  },
  "toc": {
   "base_numbering": 1,
   "nav_menu": {},
   "number_sections": false,
   "sideBar": false,
   "skip_h1_title": false,
   "title_cell": "Table of Contents",
   "title_sidebar": "Contents",
   "toc_cell": false,
   "toc_position": {},
   "toc_section_display": false,
   "toc_window_display": false
  }
 },
 "nbformat": 4,
 "nbformat_minor": 4
}
