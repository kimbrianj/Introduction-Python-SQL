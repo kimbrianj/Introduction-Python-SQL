{
 "cells": [
  {
   "cell_type": "code",
   "execution_count": 1,
   "metadata": {
    "tags": [
     "hide_input"
    ]
   },
   "outputs": [],
   "source": [
    "%defaultDatasource jdbc:sqlite:lodes.db"
   ]
  },
  {
   "cell_type": "markdown",
   "metadata": {},
   "source": [
    "## Using Aggregation Functions\n",
    "\n",
    "We've explored how to create a variable that indicates whether the census block had over 100 jobs or not using the code below."
   ]
  },
  {
   "cell_type": "code",
   "execution_count": null,
   "metadata": {},
   "outputs": [],
   "source": [
    "ALTER TABLE ca_wac_2015 ADD over100 BOOL;\n",
    "UPDATE ca_wac_2015 SET over100 = 0;\n",
    "UPDATE ca_wac_2015 SET over100 = 1 WHERE c000 > 100;"
   ]
  },
  {
   "cell_type": "markdown",
   "metadata": {},
   "source": [
    "What if we wanted to know how many blocks had over 100 jobs and how many didn't? We can now use the `GROUP BY` statement. "
   ]
  },
  {
   "cell_type": "code",
   "execution_count": null,
   "metadata": {},
   "outputs": [],
   "source": [
    "SELECT over100, COUNT(over100) \n",
    "FROM ca_wac_2015 \n",
    "GROUP BY over100 \n",
    "LIMIT 1000;"
   ]
  },
  {
   "cell_type": "markdown",
   "metadata": {},
   "source": [
    "Here, the `GROUP BY` statement groups it into the categories of the variable. Since we've chosen to display the count, we can see the counts. We can also change the order in which the results are displayed so that it's in increasing order. "
   ]
  },
  {
   "cell_type": "code",
   "execution_count": null,
   "metadata": {},
   "outputs": [],
   "source": [
    "SELECT over100, COUNT(over100) \n",
    "FROM ca_wac_2015\n",
    "GROUP BY over100 \n",
    "ORDER BY COUNT(over100)\n",
    "LIMIT 1000;"
   ]
  },
  {
   "cell_type": "markdown",
   "metadata": {},
   "source": [
    "The `ORDER BY` statement orders the rows that it displays according to whatever you put after it. In this case, we chose the count of `over100`. \n",
    "\n",
    "### Using GROUP BY with Multiple Variables\n",
    "\n",
    "For the next few queries, let's try using a different table. The `ca_xwalk` table in the same `lodes` database contains information about each of the census blocks in California. We can use this to, for example, look at aggregation by CBSA (metropolitan/micropolitan area) name and by county name."
   ]
  },
  {
   "cell_type": "code",
   "execution_count": null,
   "metadata": {},
   "outputs": [],
   "source": [
    "SELECT cbsaname, ctyname, COUNT(*)\n",
    "FROM ca_xwalk\n",
    "GROUP BY cbsaname, ctyname\n",
    "ORDER BY COUNT(*) DESC\n",
    "LIMIT 1000;"
   ]
  },
  {
   "cell_type": "markdown",
   "metadata": {},
   "source": [
    "This first groups by CBSA (`cbsaname`) name, then it groups by county (`ctyname`), in that order. In this case, county is nested completely in the metropolitan/micropolitan area. In other cases in which we don't have complete nesting, we would be able to see all possible combinations that exist in the data.\n",
    "\n",
    "Further, notice that we used `DESC` after `ORDER BY`. This orders in descending order instead of ascending order, so that we can see the areas with the most census blocks at the top.\n",
    "\n",
    "### Conditional Statements After Aggregation\n",
    "\n",
    "Suppose we wanted to display only certain counts. We can use `HAVING` to do this."
   ]
  },
  {
   "cell_type": "code",
   "execution_count": null,
   "metadata": {},
   "outputs": [],
   "source": [
    "SELECT ctyname, cbsaname, COUNT(cbsaname)\n",
    "FROM ca_xwalk\n",
    "GROUP BY ctyname, cbsaname\n",
    "HAVING count(cbsaname) > 20000\n",
    "ORDER BY COUNT(*) DESC\n",
    "LIMIT 1000;"
   ]
  },
  {
   "cell_type": "markdown",
   "metadata": {},
   "source": [
    "This will only display the counts for which the count of `cbsaname` is greater than 20000. Note that this is different from using `WHERE`, since the conditional statement comes after the `GROUP BY` statement. Basically, `HAVING` gives us a way of using the same types of conditional statements after we do our aggregation.\n",
    "\n",
    "### Using Different Aggregation Functions\n",
    "\n",
    "What if we wanted to find the sum within each group, or the minimum or maximum value? We can use the appropriate aggregation function. To show this, let's go back to our `ca_wac_2015` table. "
   ]
  },
  {
   "cell_type": "code",
   "execution_count": null,
   "metadata": {},
   "outputs": [],
   "source": [
    "SELECT over100, COUNT(over100) AVG(c000) AS avg_jobs, MIN(c000) AS min_jobs, MAX(c000) AS max_jobs\n",
    "FROM ca_wac_2015 \n",
    "GROUP BY over100 \n",
    "ORDER BY over100\n",
    "LIMIT 1000;"
   ]
  },
  {
   "cell_type": "markdown",
   "metadata": {},
   "source": [
    "Here, we're finding the counts, average, minimum, and maximum value of the total jobs in each census block within each group. Now, we're not doing anything very insightful here, since the groups already split the blocks by how many jobs there are. However, as we'll see later on, these aggregation functions can be very useful. For example, suppose we had the county data that's in `ca_xwalk` in this table. We could find the average number of jobs per census block for each county in this way.\n",
    "\n",
    "> ### Side Note: Aliasing\n",
    "> You may have noticed that we included a part using \"`AS`,\" followed by a new name, in the first line. When you ran the code, you might have noticed that the column labels were changed to these new names. This is called aliasing, and is done for readability and ease of access. Later on, aliasing will also help us more easily reference tables within the same query.  "
   ]
  },
  {
   "cell_type": "markdown",
   "metadata": {},
   "source": [
    "## <span style = \"color:red\">Checkpoint 3: Checking Your Dataset</span>\n",
    "\n",
    "Using the above methods, explore the tables we've provided or your own state's data to answer the questions below. As before, make sure to include the queries with your answers.\n",
    "\n",
    "- Which county has the most census blocks? \n",
    "- Which Metropolitan/Micropolitan area has the most census blocks?\n",
    "- Which Origin census block - Destination census block combination has the most workers? How many workers are in this combination?\n",
    "- How would you find all counties containing at least 1000 census blocks?\n",
    "- For California, how many census blocks are there with a latitude above +36? \n",
    "- For California, which county has the most census blocks above the +36 latitude line? Which county has the most below? "
   ]
  }
 ],
 "metadata": {
  "kernelspec": {
   "display_name": "SQL",
   "language": "SQL",
   "name": "sql"
  },
  "language_info": {
   "codemirror_mode": "sql",
   "file_extension": ".sql",
   "mimetype": "",
   "name": "SQL",
   "nbconverter_exporter": "",
   "version": ""
  },
  "toc": {
   "base_numbering": 1,
   "nav_menu": {},
   "number_sections": false,
   "sideBar": false,
   "skip_h1_title": false,
   "title_cell": "Table of Contents",
   "title_sidebar": "Contents",
   "toc_cell": false,
   "toc_position": {},
   "toc_section_display": false,
   "toc_window_display": false
  }
 },
 "nbformat": 4,
 "nbformat_minor": 4
}
