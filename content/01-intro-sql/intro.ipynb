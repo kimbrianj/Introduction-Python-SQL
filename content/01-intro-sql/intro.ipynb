{
 "cells": [
  {
   "cell_type": "markdown",
   "metadata": {},
   "source": [
    "# Introduction to SQL and Relational Databases\n",
    "\n",
    "SQL is a language designed for a very specific purpose: to interact with relational databases. \n",
    "\n",
    "- **Database**: A database is a structured collection of data. There are various different ways of structuring the database, and there may or may not be information about the relationship between entities in the database.\n",
    "- **Query**: A query is a request for data from the database. \n",
    "- **Database Management System (DBMS)**: A DBMS is a system of storing and managing databases, including querying the database.\n",
    "- **Relational Database Management System (RDBMS)**: In an RDBMS, data records are stored in *tables*, each of which has a predefined set of *columns*, the pieces of information captured for each record in a table, and *rows* in the table, where each row has a place to store a value for every column in the table.\n",
    "\n",
    "Tables, including their columns, column types and relationships with other tables, are defined in a database **schema**. Many times, tables will contain a **primary key**, one or more columns that uniquely define a row. You can think of the primary key as a kind of ID, in which each row is given a unique ID. Tables can also contain  **foreign keys**, which are column(s) that comprise the primary key in another table and, thus, provides a way of matching between multiple tables.\n",
    "\n",
    "_Note: Normally, a database is stored seperately from the SQL that you use to query the database. However, for the purposes of these lessons, we have created a light-weight database and added some special tools that will allow you to run queries directly in the notebook. While the SQL commands you will use here are the same, keep in mind that interfacing with most production database systems is more complex and generally requires additional software tools or libraries._"
   ]
  },
  {
   "cell_type": "markdown",
   "metadata": {},
   "source": [
    "## <span style=\"color:green\">Motivating Question</span>\n",
    "\n",
    "**What are the Characteristics of Jobs by Census Block?**\n",
    "\n",
    "The LODES data has a wealth of information about jobs at the census block level. We want to explore this, so that we can characterize the data that is available to us. That is, for any given state, we want to answer, for example, some of the following questions:\n",
    "\n",
    "- **How many census blocks contain workplaces?**\n",
    "- **What were the most jobs in a census block?**\n",
    "- **How many census blocks had over 50 jobs? Over 100?**\n",
    "- **Among census blocks containing worplaces, what is the average number of jobs per census block?**\n",
    "\n",
    "These, as well as other questions about the data we might answer, can help us better understand the distribution of jobs by location. In this notebook, try to keep these types of questions in mind as we explore the data."
   ]
  },
  {
   "cell_type": "markdown",
   "metadata": {},
   "source": [
    "## <span style=\"color:green\">Writing a Basic Query (VIDEO)</span>\n",
    "\n",
    "In order to analyze the data in a database, we need to query it, or request specific information about the data. Before we do that, run the following cell to establish a connection to the database:"
   ]
  },
  {
   "cell_type": "code",
   "execution_count": null,
   "metadata": {},
   "outputs": [],
   "source": [
    "%defaultDatasource jdbc:sqlite:lodes.db"
   ]
  },
  {
   "cell_type": "markdown",
   "metadata": {},
   "source": [
    "Now, let's start with some basics. We'll start by retrieving all columns from the California Workplace Area Characteristic (`ca_wac_2015`) table. Try running the following query:"
   ]
  },
  {
   "cell_type": "code",
   "execution_count": null,
   "metadata": {},
   "outputs": [],
   "source": [
    "SELECT * FROM ca_wac_2015 LIMIT 10;"
   ]
  },
  {
   "cell_type": "markdown",
   "metadata": {},
   "source": [
    "You should see 10 rows of the `ca_wac_2015` dataset. Let's go over the basics of this SQL command.\n",
    "\n",
    "- **SELECT:** We start out with the `SELECT` statement. The `SELECT` statement specifies which variables (columns) you want. \n",
    "    - Here, we used `SELECT *`. The \"`*`\" just says that we want all the variables. \n",
    "    - If we wanted a few columns, we would use the column names separated by commas instead of \"`*`\" (for example, `w_geocode, createdate`).\n",
    "\n",
    "\n",
    "- **FROM:** Now, let's look at the next part of the query, `FROM ca_wac_2015`. This part of the query specifies the table, `ca_wac_2015`, from which we want to retrieve the data. Most of your queries will begin in this fashion, describing which columns you want and from which table.\n",
    "\n",
    "\n",
    "- **LIMIT:** We typically include a `LIMIT` statement at the end of our query so that we don't get overloaded with rows being output. Here, `LIMIT 10` means that we just want the first ten rows. Many times, the `LIMIT` that you want will be higher than 10 -- you might generally prefer to use 1000 or so. Having a `LIMIT` for all queries is highly recommended even if you know only a few rows will be shown, since it acts as a safety precaution against (for example) displaying millions of rows of data.\n",
    "\n",
    "In this case, we've put everything in one line, but that's not necessary. We could have split the code up into multiple lines, like so:\n",
    "\n",
    "    SELECT * \n",
    "    FROM ca_wac_2015\n",
    "    LIMIT 10;\n",
    "\n",
    "This gives the same output as our original query. Generally, once queries start getting longer, breaking up the code into multiple lines can be very helpful in organizing your code and making it easier to read.\n",
    "\n",
    "Along those lines, note that we used a semi-colon at the end of the query to mark the end of the query. That isn't absolutely necessary here, but it does help mark the end of a query and is required in other applications of SQL, so it's good practice to use it. \n",
    "\n",
    "> ### Side note about capitalization\n",
    "If you notice, we've been using all caps for SQL commands and all lowercase for data table and schema names. This is simply a convention, as SQL is not case sensitive. For example, we could have run `select * from ca_wac_2015 limit 10;` and it would have given us the exact same output as the first query. \n",
    "\n",
    "> This does mean you need to be careful when using column names. If your column name has capital letters in it, you need use double quotes (e.g. `\"C000\"`) to preserve the capitalization. For this reason, you might find that using all lowercase letters in column names is preferable, which is what we've done here.\n",
    "\n",
    "Now, consider the following query. What do you think it will do?\n",
    "\n",
    "    SELECT w_geocode, createdate \n",
    "    FROM ca_wac_2015\n",
    "    LIMIT 100;\n",
    "\n",
    "We've changed the original query by using `w_geocode, createdate` instead of `*`, so we'll only get the values from two columns, `w_geocode` and `createdate`. In addition, we've changed the value after `LIMIT` to be 100 instead of 10, so we'll get the first 100 rows instead of the first 10 rows."
   ]
  },
  {
   "cell_type": "code",
   "execution_count": null,
   "metadata": {},
   "outputs": [],
   "source": [
    "SELECT w_geocode, createdate \n",
    "FROM ca_wac_2015\n",
    "LIMIT 100;"
   ]
  },
  {
   "cell_type": "markdown",
   "metadata": {},
   "source": [
    "## <span style = \"color:red\">Checkpoint 1: Running Basic Queries</span>\n",
    "\n",
    "Consider the following queries. What do you think they will do? Try figuring out what the output will look like, then run the code to see if you're correct.\n",
    "\n",
    "- `SELECT * FROM ca_wac_2015 LIMIT 25;`\n",
    "- `SELECT c000,ca01,ca02,ca03 FROM ca_wac_2015 LIMIT 1000;`\n",
    "- `SELECT * FROM ca_od_2015 LIMIT 100;`\n",
    "- `SELECT * FROM ca_rac_2015 LIMIT 40;`\n",
    "\n",
    "Think about the following scenarios. What is the query you would use to answer these questions? Try them out.\n",
    "\n",
    "- You want to see the first 100 rows of the origin and destination geocodes for each census block in California.\n",
    "- You want to see the top 1000 rows of census blocks containing workplaces and the number of jobs for workers of each race."
   ]
  }
 ],
 "metadata": {
  "kernelspec": {
   "display_name": "SQL",
   "language": "SQL",
   "name": "sql"
  },
  "language_info": {
   "codemirror_mode": "sql",
   "file_extension": ".sql",
   "mimetype": "",
   "name": "SQL",
   "nbconverter_exporter": "",
   "version": ""
  },
  "toc": {
   "base_numbering": 1,
   "nav_menu": {},
   "number_sections": false,
   "sideBar": false,
   "skip_h1_title": false,
   "title_cell": "Table of Contents",
   "title_sidebar": "Contents",
   "toc_cell": false,
   "toc_position": {},
   "toc_section_display": false,
   "toc_window_display": false
  }
 },
 "nbformat": 4,
 "nbformat_minor": 4
}
