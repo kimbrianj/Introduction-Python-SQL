{
 "cells": [
  {
   "cell_type": "markdown",
   "metadata": {},
   "source": [
    "## <span style=\"color:green\">Creating New Tables for Future Use (VIDEO)</span>\n",
    "\n",
    "So far, we've mostly just been exploring the data without making any changes to the database. However, there might be times when we might want to create new tables. We can do this using `CREATE TABLE`. Let's use a previous example to create a new table."
   ]
  },
  {
   "cell_type": "code",
   "execution_count": null,
   "metadata": {},
   "outputs": [],
   "source": [
    "CREATE TABLE joinedtable AS \n",
    "SELECT * FROM ca_wac_2015\n",
    "LEFT JOIN ca_xwalk \n",
    "ON ca_wac_2015.w_geocode = ca_xwalk.tabblk2010\n",
    "LIMIT 1000;"
   ]
  },
  {
   "cell_type": "markdown",
   "metadata": {},
   "source": [
    "This should look mostly familiar, since everything after the first line is stuff we've already done. The first line creates a new table called `joinedtable` from the output.\n",
    "\n",
    "This is a bit of a mess, though. We usually don't need everything from the tables that we do join, so we can choose what we keep. Let's create a new table that has just the information we need."
   ]
  },
  {
   "cell_type": "code",
   "execution_count": null,
   "metadata": {},
   "outputs": [],
   "source": [
    "CREATE TABLE joinedtable2 AS \n",
    "SELECT a.w_geocode AS blockid, a.c000 AS total_jobs, b.cty AS county \n",
    "FROM ca_wac_2015 a\n",
    "LEFT JOIN ca_xwalk b\n",
    "ON a.w_geocode = b.tabblk2010\n",
    "LIMIT 1000;"
   ]
  },
  {
   "cell_type": "markdown",
   "metadata": {},
   "source": [
    "First, notice that we use aliasing to help make refering to tables easier. That is, in the third and fourth lines, we put \"`a`\" and \"`b`\" after each table to give it that alias. We can then use \"`a`\" and \"`b`\" whenever we refer to either table, which makes the `SELECT` statement easier. \n",
    "\n",
    "Along those lines, notice that we specify which table each variable was from. If the column name is unique between the two tables (i.e. both tables don't have a column with the same name), then you don't need to specify the table as we've done. However, if they aren't unique and both tables have a variable with that name, you need to specify which one you want.\n",
    "\n",
    "Lastly, we've made the table easier to read by changing the name of the variable in the new table, using `AS` in the `SELECT` part of the query. "
   ]
  },
  {
   "cell_type": "markdown",
   "metadata": {},
   "source": [
    "### Dropping Tables\n",
    "\n",
    "Conversely, you can also drop, or delete, tables. We created a table in the previous section that we won't need, so let's drop it."
   ]
  },
  {
   "cell_type": "code",
   "execution_count": null,
   "metadata": {},
   "outputs": [],
   "source": [
    "DROP TABLE joinedtable;"
   ]
  },
  {
   "cell_type": "markdown",
   "metadata": {},
   "source": [
    "You might be tempted to avoid dropping tables since it seems relatively harmless to simply not use the table anymore without dropping them. However, it is important to keep databases clean and consider the amount of space each table takes up. "
   ]
  },
  {
   "cell_type": "markdown",
   "metadata": {},
   "source": [
    "## <span style=\"color:red\">Checkpoint: Putting It All Together</span>\n",
    "\n",
    "Look back to the motivating question: **What are the characteristics of the distribution of jobs by county and by metropolitan/micropolitan area?**\n",
    "\n",
    "Using what you know about joins and aggregation functions, try to answer the following questions:\n",
    "\n",
    "- Which counties have the most jobs?\n",
    "- Which counties do the workers live in the most?\n",
    "- Which metropolitan/micropolitan areas have the most jobs?\n",
    "- What are some summary statistics of jobs at the county or metropolitan/micropolitan level (e.g. average number of jobs per county)?\n",
    "\n",
    "Then, try creating a new table containing a joined table. You may use this newly created table to answer some of the questions above. After you're done, drop the table."
   ]
  }
 ],
 "metadata": {
  "kernelspec": {
   "display_name": "SQL",
   "language": "SQL",
   "name": "sql"
  },
  "language_info": {
   "codemirror_mode": "sql",
   "file_extension": ".sql",
   "mimetype": "",
   "name": "SQL",
   "nbconverter_exporter": "",
   "version": ""
  },
  "toc": {
   "base_numbering": 1,
   "nav_menu": {},
   "number_sections": false,
   "sideBar": false,
   "skip_h1_title": false,
   "title_cell": "Table of Contents",
   "title_sidebar": "Contents",
   "toc_cell": false,
   "toc_position": {},
   "toc_section_display": false,
   "toc_window_display": false
  }
 },
 "nbformat": 4,
 "nbformat_minor": 4
}
