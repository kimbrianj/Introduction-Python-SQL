{
 "cells": [
  {
   "cell_type": "markdown",
   "metadata": {},
   "source": [
    "# SQL Joins\n",
    "\n",
    "So far, we've just looked at the data one at a time, exploring a state's workplace area characteristics, residence area characteristics, origin-destination pair information, or descriptions of each census block. What if we wanted to look at the jobs dataset within the context of the county they were in? We have get information about jobs from the WAC, RAC, or OD tables, but we also have to use the geography crosswalk table, containing information about the census blocks such as county and zip codes. We'd need to somehow combine the information from these two datasets together. We do that using `JOIN`s. "
   ]
  },
  {
   "cell_type": "markdown",
   "metadata": {},
   "source": [
    "## Motivating Question\n",
    "\n",
    "In the previous workbook, we explored a little bit of the Workplace Area Characteristic dataset as well as the Geography Crosswalk dataset. We were able to look at how jobs were in each census block, as well as how many census blocks there were in each county or metropolitan/micropolitan area. In this notebook, we're going to explore deeper into the data available to us to try to answer the question:\n",
    "\n",
    "**What are the characteristics of the distribution of jobs by county and by metropolitan/micropolitan area?**\n",
    "\n",
    "To answer this, we'll have to use data from multiple tables."
   ]
  }
 ],
 "metadata": {
  "kernelspec": {
   "display_name": "SQL",
   "language": "SQL",
   "name": "sql"
  },
  "language_info": {
   "codemirror_mode": "sql",
   "file_extension": ".sql",
   "mimetype": "",
   "name": "SQL",
   "nbconverter_exporter": "",
   "version": ""
  },
  "toc": {
   "base_numbering": 1,
   "nav_menu": {},
   "number_sections": false,
   "sideBar": false,
   "skip_h1_title": false,
   "title_cell": "Table of Contents",
   "title_sidebar": "Contents",
   "toc_cell": false,
   "toc_position": {},
   "toc_section_display": false,
   "toc_window_display": false
  }
 },
 "nbformat": 4,
 "nbformat_minor": 4
}
