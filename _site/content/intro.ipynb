{
 "cells": [
  {
   "cell_type": "markdown",
   "metadata": {},
   "source": [
    "# Introduction to SQL and Python for Data Analysis\n",
    "\n",
    "This book provides a brief and gentle introduction to using Python and SQL for data analysis. The goal is not to cover the fundamentals of programming in Python, or to understand the database architecture behind relational database. Instead, this book aims to present practical tools and serve as a jumping off point for doing data analysis with SQL and Python. Keeping this goal in mind, this book assumes no prior programming knowledge, and only a minimum level of statistical knowledge.  \n",
    "\n",
    "In each chapter, we will start with a motivating question, then walk through the process we need to go through in order to answer the motivating question. Along the way, we will walk through various Python commands and develop skills as we work towards answering the question. As you work through this book, you will run into some headers that are in **<span style=\"color:red\">RED</span>**. These headers indicate a checkpoint to practice writing the code yourself. You should stop at these checkpoints and try doing the exercises and answering the questions posed in these sections by clicking on the \"Interact\" button at the top of the page.\n",
    "\n",
    "## Data\n",
    "\n",
    "In this book, we will use a set of public datasets from the Longitudinal Employer Household Dynamic (LEHD) data provided by the United States Census Bureau. In particular, we will use the LEHD Origin-Destination Employment Statistics (LODES) data. These data are based on tabulated administrative data and give information about workplaces and residences of workers at the census block level. There are four main types of data that we will use.\n",
    "- **Workplace Area Characteristics (WAC):** Census block level. Job totals for workplaces in the census block.\n",
    "- **Residence Area Characteristics (RAC):** Census block level. Job totals for residences in the census block.\n",
    "- **Origin-Destination (OD):** Origin census block - Destination census block pair level. \n",
    "- **Crosswalk (xwalk):** Census block level. Contains all census blocks within that state, and contains information about that census block (e.g. city, county).\n",
    "\n",
    "\n",
    "The WAC and RAC data generally look something like the following:"
   ]
  },
  {
   "cell_type": "code",
   "execution_count": null,
   "metadata": {
    "tags": [
     "hide_input"
    ]
   },
   "outputs": [],
   "source": [
    "import pandas as pd \n",
    "data_file = '/data/ca_wac_S000_JT00_2015.csv'\n",
    "pd.read_csv(data_file).head()"
   ]
  },
  {
   "cell_type": "markdown",
   "metadata": {},
   "source": [
    "Here, each of the \n",
    "\n",
    "For more information about the datasets used in the examples, please refer to the data documentation provided [at this link](https://lehd.ces.census.gov/data/lodes/LODES7/LODESTechDoc7.4.pdf). "
   ]
  }
 ],
 "metadata": {
  "kernelspec": {
   "display_name": "Python 3",
   "language": "python",
   "name": "python3"
  },
  "language_info": {
   "codemirror_mode": {
    "name": "ipython",
    "version": 3
   },
   "file_extension": ".py",
   "mimetype": "text/x-python",
   "name": "python",
   "nbconvert_exporter": "python",
   "pygments_lexer": "ipython3",
   "version": "3.7.3"
  },
  "widgets": {
   "application/vnd.jupyter.widget-state+json": {
    "state": {},
    "version_major": 2,
    "version_minor": 0
   }
  }
 },
 "nbformat": 4,
 "nbformat_minor": 4
}
