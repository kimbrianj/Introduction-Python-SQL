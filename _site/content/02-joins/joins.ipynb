{
 "cells": [
  {
   "cell_type": "markdown",
   "metadata": {},
   "source": [
    "## <span style=\"color:green\">Joins (VIDEO)</span>\n",
    "\n",
    "One of the nice things about relational databases is organization using multiple tables that are linked together in some way. For example, suppose we have one table with 6 rows called **Table A**:\n",
    "\n",
    "| blockid | C000|\n",
    "|---|---|\n",
    "|1|5|\n",
    "|2|10|\n",
    "|3|2|\n",
    "|4|6|\n",
    "|5|22|\n",
    "|6|9|\n",
    "\n",
    "And another table with 5 rows called **Table B**:\n",
    "\n",
    "| blockid | CA01|\n",
    "|---|---|\n",
    "|2|2|\n",
    "|5|4|\n",
    "|6|1|\n",
    "|7|2|\n",
    "|8|0|\n",
    "\n",
    "Let's say we want to combine Table A and Table B so that we have one table that contains information about `blockid`, `C000`, and `CA01`. We want to do this by matching the two tables by what they have in common, `blockid`. That is, we want a table that looks like this (let's call this **Table C**):\n",
    "\n",
    "| blockid | C000 | CA01 |\n",
    "|---|---|---|\n",
    "|2|10|2|\n",
    "|5|22|4|\n",
    "|6|9|1|\n",
    "\n",
    "Table C has each `blockid` that was in both Table A and Table B. It also contains the appropriate values for `C000` and `CA01` corresponding to each `blockid`. This kind of matching can be quite tricky to figure out manually, since there are different numbers of rows in each table, not all of the `blockid` values match for the two tables, and there are some `blockid` values that aren't in both. Fortunately for us, SQL is well-equipped to handle this task using the `JOIN` statement."
   ]
  },
  {
   "cell_type": "markdown",
   "metadata": {},
   "source": [
    "### SQL Code and how it works\n",
    "\n",
    "Before we begin joining, let's first connect to the database."
   ]
  },
  {
   "cell_type": "code",
   "execution_count": null,
   "metadata": {},
   "outputs": [],
   "source": [
    "%defaultDatasource jdbc:sqlite:lodes.db"
   ]
  },
  {
   "cell_type": "markdown",
   "metadata": {},
   "source": [
    "Now that we're connected and have established a plan for how we're joining two tables together, let's take a look at the SQL code that performs this join and break it down.\n",
    "\n",
    "    SELECT * FROM ca_wac_2015\n",
    "    JOIN ca_xwalk\n",
    "    ON ca_wac_2015.w_geocode = ca_xwalk.tabblk2010 \n",
    "    LIMIT 1000;\n",
    "\n",
    "Let's look at the first two lines.\n",
    "\n",
    "    SELECT * FROM ca_wac_2015\n",
    "    JOIN ca_xwalk\n",
    "\n",
    "Here, we want to `SELECT` each column from a data table that we get from joining the tables `ca_wac_2015` and `ca_xwalk`. The second line takes the `ca_wac_2015` table and joins the `ca_xwalk` table to it. \n",
    "\n",
    "We can't just mash two tables together though -- we need some way of making sure that the appropriate rows match. We do this with the third line:\n",
    "\n",
    "    ON ca_wac_2015.w_geocode = ca_xwalk.tabblk2010\n",
    "\n",
    "This part specifies what we're joining on. That is, what is the ID variable that is in both tables that we want to match. Notice that they don't need to be named the same in both tables, though you do need to specify what they are in each table, even if they are the same, as well as which table they are from.\n",
    "\n",
    "If you run the full code below, you should see the first 1000 rows (because of the `LIMIT 1000`) of the joined table. You should be able to scroll through all of the variables and see that we've managed to merge the `ca_wac_2015` and `ca_xwalk` tables together according to their census block IDs.\n",
    "\n",
    "> **Side note:** We're only going to be displaying a few of the columns instead of using `SELECT *` like we showed above. This is because we aren't able to display more than 50 columns here in this notebook format. Joining to get tables with greater than 50 columns is perfectly fine, but we'll only look at a few at a time to make it easier to follow in these exercises."
   ]
  },
  {
   "cell_type": "code",
   "execution_count": null,
   "metadata": {},
   "outputs": [],
   "source": [
    "SELECT ca_wac_2015.w_geocode, ca_xwalk.tabblk2010, ca_wac_2015.c000, ca_wac_2015.ca01, ca_wac_2015.ca02, ca_wac_2015.ca03, \n",
    "ca_xwalk.ctyname, ca_xwalk.cbsaname \n",
    "FROM ca_wac_2015\n",
    "JOIN ca_xwalk\n",
    "ON ca_wac_2015.w_geocode = ca_xwalk.tabblk2010 \n",
    "LIMIT 1000;"
   ]
  },
  {
   "cell_type": "markdown",
   "metadata": {},
   "source": [
    "Here, we've chosen to display the two census block ID variables we're joining on so that you can see the matching, as well as a few characteristics from each table. Notice that we've specified the table before each variable. That's generally only necessary when both tables have a column with the same name, but we've done it here for clarity. The following will do the exact same thing and run just fine since the two tables don't share any of the column names."
   ]
  },
  {
   "cell_type": "code",
   "execution_count": null,
   "metadata": {},
   "outputs": [],
   "source": [
    "SELECT w_geocode, tabblk2010, c000, ca01, ca02, ca03, ctyname, cbsaname \n",
    "FROM ca_wac_2015\n",
    "JOIN ca_xwalk\n",
    "ON ca_wac_2015.w_geocode = ca_xwalk.tabblk2010 \n",
    "LIMIT 1000;"
   ]
  },
  {
   "cell_type": "markdown",
   "metadata": {},
   "source": [
    "## <span style=\"color:red\">Checkpoint: Get Census Data and Join with your Tables\n",
    "\n",
    "Try joining the Residence Area Characteristics table with the Crosswalk table in a similar manner, as well as changing some of the columns to display. As you construct your query, make sure you answer the following question regarding the join:\n",
    "\n",
    "- What are they being joined on? That is, what is the \"ID\" variable you're matching on in each table?\n",
    "- What information does the resulting table give you? For example, after we join the WAC table to the geography crosswalk table, we are now able to determine counties or metropolitan/micropolitan areas for census block containing workplaces.\n",
    "\n"
   ]
  }
 ],
 "metadata": {
  "kernelspec": {
   "display_name": "SQL",
   "language": "SQL",
   "name": "sql"
  },
  "language_info": {
   "codemirror_mode": "sql",
   "file_extension": ".sql",
   "mimetype": "",
   "name": "SQL",
   "nbconverter_exporter": "",
   "version": ""
  },
  "toc": {
   "base_numbering": 1,
   "nav_menu": {},
   "number_sections": false,
   "sideBar": false,
   "skip_h1_title": false,
   "title_cell": "Table of Contents",
   "title_sidebar": "Contents",
   "toc_cell": false,
   "toc_position": {},
   "toc_section_display": false,
   "toc_window_display": false
  }
 },
 "nbformat": 4,
 "nbformat_minor": 4
}
